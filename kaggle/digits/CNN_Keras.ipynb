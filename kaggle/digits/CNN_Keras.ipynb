{
 "cells": [
  {
   "cell_type": "markdown",
   "metadata": {},
   "source": [
    "## Process\n",
    "\n",
    "### data preparation\n",
    "\n",
    "- Load data \n",
    "- Check for null and missing values \n",
    "- Normalization\n",
    "- Reshape \n",
    "- Label encoding \n",
    "- Split trainning and validation set \n",
    "\n",
    "### CNN\n",
    "\n",
    "- Define the model \n",
    "- Set the optimizer and annealer \n",
    "- Data augmentation \n",
    "\n",
    "### Evaluate the model \n",
    "\n",
    "- Trainning and validation curves \n",
    "- Confusion matrix \n",
    "\n",
    "### Prediction and submition \n",
    "\n",
    "- Predict and Submit results"
   ]
  },
  {
   "cell_type": "code",
   "execution_count": 2,
   "metadata": {},
   "outputs": [],
   "source": [
    "import pandas as pd \n",
    "import numpy as np \n",
    "import matplotlib.pyplot as plt \n",
    "import matplotlib.image as mpimg \n",
    "import seaborn as sns \n",
    "%matplotlib inline\n",
    "\n",
    "np.random.seed(2)\n",
    "\n"
   ]
  },
  {
   "cell_type": "code",
   "execution_count": null,
   "metadata": {},
   "outputs": [],
   "source": []
  }
 ],
 "metadata": {
  "kernelspec": {
   "display_name": "Python 3",
   "language": "python",
   "name": "python3"
  },
  "language_info": {
   "codemirror_mode": {
    "name": "ipython",
    "version": 3
   },
   "file_extension": ".py",
   "mimetype": "text/x-python",
   "name": "python",
   "nbconvert_exporter": "python",
   "pygments_lexer": "ipython3",
   "version": "3.6.4"
  }
 },
 "nbformat": 4,
 "nbformat_minor": 2
}
